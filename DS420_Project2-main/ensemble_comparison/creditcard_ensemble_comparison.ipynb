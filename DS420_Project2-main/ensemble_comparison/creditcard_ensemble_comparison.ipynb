{
 "cells": [
  {
   "cell_type": "markdown",
   "metadata": {},
   "source": [
    "# Import from each file"
   ]
  },
  {
   "cell_type": "code",
   "execution_count": 1,
   "metadata": {},
   "outputs": [],
   "source": [
    "from creditcard_ensemble_bag import best_model as bag_model # 30 seconds to 1 minute, 30 seconds\n",
    "from creditcard_ensemble_RFC import best_model as RFC_model # 30 seconds to 1 minute\n",
    "from creditcard_ensemble_AB import best_model as AB_model # 6-10 minutes\n",
    "from creditcard_ensemble_GB import best_model as GB_model # 30 minutes\n",
    "from creditcard_ensemble_HGB import best_model as HGB_model # 30 seconds\n",
    "from creditcard_ensemble_SC import best_model as stack_model # 20 minutes\n",
    "from creditcard_ensemble_voting import best_model as voting_model # 10 minutes\n",
    "\n",
    "\n",
    "import numpy as np\n",
    "import pandas as pd\n",
    "\n",
    "from sklearn.metrics import accuracy_score\n",
    "\n",
    "\n",
    "from creditcard_preparation import prepare_creditcard_data, combine_algo_and_pipeline"
   ]
  },
  {
   "cell_type": "code",
   "execution_count": 2,
   "metadata": {},
   "outputs": [],
   "source": [
    "def new_eval(algo, X_train, y_train, X_test, y_test):\n",
    "\n",
    "    try:\n",
    "\n",
    "        algo.fit(X_train,np.ravel(y_train))\n",
    "\n",
    "        test_predictions = algo.predict(X_test)\n",
    "\n",
    "        accuracy = accuracy_score(y_test, test_predictions)\n",
    "\n",
    "        scores = {\"Accuracy\": accuracy}\n",
    "\n",
    "    except:\n",
    "\n",
    "        # alternate data (no raveling performed)\n",
    "\n",
    "        algo.fit(X_train,y_train)\n",
    "\n",
    "        test_predictions = algo.predict(X_test)\n",
    "    \n",
    "        accuracy = accuracy_score(y_test, test_predictions)\n",
    "\n",
    "        scores = {\"Accuracy\": accuracy}\n",
    "\n",
    "        \n",
    "\n",
    "    return scores"
   ]
  },
  {
   "cell_type": "markdown",
   "metadata": {},
   "source": [
    "# Run Ensemble Models"
   ]
  },
  {
   "cell_type": "code",
   "execution_count": 3,
   "metadata": {},
   "outputs": [
    {
     "name": "stdout",
     "output_type": "stream",
     "text": [
      "Data Loaded\n",
      "Testing the BaggingClassifier(estimator=DecisionTreeClassifier(), max_features=0.7,\n",
      "                  max_samples=0.7)\n",
      "Testing the RandomForestClassifier(min_samples_leaf=4, min_samples_split=5, n_estimators=10)\n",
      "Testing the AdaBoostClassifier(estimator=DecisionTreeClassifier(max_depth=10,\n",
      "                                                    max_features=0.8,\n",
      "                                                    min_samples_leaf=10,\n",
      "                                                    random_state=42))\n"
     ]
    },
    {
     "name": "stderr",
     "output_type": "stream",
     "text": [
      "/Users/cody/Documents/DS420/Project2/proj2/.venv/lib/python3.10/site-packages/sklearn/ensemble/_weight_boosting.py:519: FutureWarning: The SAMME.R algorithm (the default) is deprecated and will be removed in 1.6. Use the SAMME algorithm to circumvent this warning.\n",
      "  warnings.warn(\n"
     ]
    },
    {
     "name": "stdout",
     "output_type": "stream",
     "text": [
      "Testing the GradientBoostingClassifier(max_depth=10, max_features=0.8, min_samples_leaf=10,\n",
      "                           n_estimators=500, n_iter_no_change=2,\n",
      "                           random_state=42, subsample=0.9)\n",
      "Testing the HistGradientBoostingClassifier(l2_regularization=0.2, learning_rate=1.0)\n",
      "Testing the VotingClassifier(estimators=[('dt', DecisionTreeClassifier()),\n",
      "                             ('lr', LogisticRegression()),\n",
      "                             ('rfc', RandomForestClassifier())],\n",
      "                 n_jobs=-1)\n",
      "Testing the StackingClassifier(cv=5,\n",
      "                   estimators=[('RF',\n",
      "                                RandomForestClassifier(min_samples_leaf=4,\n",
      "                                                       min_samples_split=5,\n",
      "                                                       n_estimators=10)),\n",
      "                               ('LR', LogisticRegression())],\n",
      "                   final_estimator=DecisionTreeClassifier(criterion='entropy'),\n",
      "                   n_jobs=-1)\n"
     ]
    },
    {
     "data": {
      "text/html": [
       "<div>\n",
       "<style scoped>\n",
       "    .dataframe tbody tr th:only-of-type {\n",
       "        vertical-align: middle;\n",
       "    }\n",
       "\n",
       "    .dataframe tbody tr th {\n",
       "        vertical-align: top;\n",
       "    }\n",
       "\n",
       "    .dataframe thead th {\n",
       "        text-align: right;\n",
       "    }\n",
       "</style>\n",
       "<table border=\"1\" class=\"dataframe\">\n",
       "  <thead>\n",
       "    <tr style=\"text-align: right;\">\n",
       "      <th></th>\n",
       "      <th>Accuracy</th>\n",
       "    </tr>\n",
       "  </thead>\n",
       "  <tbody>\n",
       "    <tr>\n",
       "      <th>AdaBoostClassifier</th>\n",
       "      <td>0.999859</td>\n",
       "    </tr>\n",
       "    <tr>\n",
       "      <th>StackingClassifier</th>\n",
       "      <td>0.999807</td>\n",
       "    </tr>\n",
       "    <tr>\n",
       "      <th>GradientBoostingClassifier</th>\n",
       "      <td>0.999807</td>\n",
       "    </tr>\n",
       "    <tr>\n",
       "      <th>RandomForestClassifier</th>\n",
       "      <td>0.999719</td>\n",
       "    </tr>\n",
       "    <tr>\n",
       "      <th>BaggingClassifier</th>\n",
       "      <td>0.999666</td>\n",
       "    </tr>\n",
       "    <tr>\n",
       "      <th>VotingClassifier</th>\n",
       "      <td>0.999086</td>\n",
       "    </tr>\n",
       "    <tr>\n",
       "      <th>HistGradientBoostingClassifier</th>\n",
       "      <td>0.992192</td>\n",
       "    </tr>\n",
       "  </tbody>\n",
       "</table>\n",
       "</div>"
      ],
      "text/plain": [
       "                                Accuracy\n",
       "AdaBoostClassifier              0.999859\n",
       "StackingClassifier              0.999807\n",
       "GradientBoostingClassifier      0.999807\n",
       "RandomForestClassifier          0.999719\n",
       "BaggingClassifier               0.999666\n",
       "VotingClassifier                0.999086\n",
       "HistGradientBoostingClassifier  0.992192"
      ]
     },
     "execution_count": 3,
     "metadata": {},
     "output_type": "execute_result"
    }
   ],
   "source": [
    "# Run all models and combine results into dataframe\n",
    "\n",
    "X_train, X_dev, X_test, y_train, y_dev, y_test = prepare_creditcard_data((1/10,1/10))\n",
    "\n",
    "print(\"Data Loaded\")\n",
    "\n",
    "models = [bag_model,\n",
    "          RFC_model,\n",
    "          AB_model,\n",
    "          GB_model,\n",
    "          HGB_model,\n",
    "          voting_model,\n",
    "          stack_model]\n",
    "\n",
    "data = []\n",
    "\n",
    "for model in models:\n",
    "\n",
    "    print(\"Testing the\", model)\n",
    "\n",
    "    model_prepared = combine_algo_and_pipeline(model)\n",
    "\n",
    "    data.append(new_eval(model_prepared, X_train, y_train, X_test, y_test))\n",
    "\n",
    "\n",
    "scores = pd.DataFrame(data=tuple(data),\n",
    "                     index=[\"BaggingClassifier\",\n",
    "                            \"RandomForestClassifier\",\n",
    "                            \"AdaBoostClassifier\",\n",
    "                            \"GradientBoostingClassifier\",\n",
    "                            \"HistGradientBoostingClassifier\",\n",
    "                            \"VotingClassifier\",\n",
    "                            \"StackingClassifier\"]\n",
    "                     ).sort_values(\"Accuracy\", ascending=False)\n",
    "scores"
   ]
  }
 ],
 "metadata": {
  "kernelspec": {
   "display_name": "Python 3",
   "language": "python",
   "name": "python3"
  },
  "language_info": {
   "codemirror_mode": {
    "name": "ipython",
    "version": 3
   },
   "file_extension": ".py",
   "mimetype": "text/x-python",
   "name": "python",
   "nbconvert_exporter": "python",
   "pygments_lexer": "ipython3",
   "version": "3.10.7"
  }
 },
 "nbformat": 4,
 "nbformat_minor": 2
}

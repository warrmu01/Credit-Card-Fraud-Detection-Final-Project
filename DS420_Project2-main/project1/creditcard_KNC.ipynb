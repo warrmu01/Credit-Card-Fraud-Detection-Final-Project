{
 "cells": [
  {
   "cell_type": "markdown",
   "id": "d5c04221-8ebf-4295-836d-8c0264406abd",
   "metadata": {},
   "source": [
    "## KNeighborsClassifier"
   ]
  },
  {
   "cell_type": "markdown",
   "id": "745119d6-aae1-4440-93b8-e25598de8bac",
   "metadata": {},
   "source": [
    "#### Author: Mughees Warraich\n",
    "#### Part of Step 4: Train Algorithms"
   ]
  },
  {
   "cell_type": "code",
   "execution_count": 22,
   "id": "5620f8b3-2cdc-44cc-bfea-9bf0d7146778",
   "metadata": {},
   "outputs": [],
   "source": [
    "from sklearn.pipeline import Pipeline\n",
    "\n",
    "from sklearn.tree import DecisionTreeClassifier\n",
    "\n",
    "from sklearn.neighbors import KNeighborsClassifier\n",
    "\n",
    "import math\n",
    "import numpy as np\n",
    "from sklearn.model_selection import GridSearchCV\n",
    "from sklearn.metrics import mean_squared_error\n",
    "from sklearn.metrics import accuracy_score, precision_score, recall_score, f1_score\n",
    "\n",
    "\n",
    "from creditcard_preparation import create_creditcard_pipeline, prepare_creditcard_data"
   ]
  },
  {
   "cell_type": "code",
   "execution_count": 23,
   "id": "ed721c43-85a9-4ba5-a5e3-8037b14fffd0",
   "metadata": {},
   "outputs": [],
   "source": [
    "X_train, X_dev, X_test, y_train, y_dev, y_test = prepare_creditcard_data((1/10,1/10))"
   ]
  },
  {
   "cell_type": "markdown",
   "id": "825213a8-ebf5-4ad7-9a2d-6cae0e564375",
   "metadata": {},
   "source": [
    "## Grid search for best hyperparameters"
   ]
  },
  {
   "cell_type": "code",
   "execution_count": 3,
   "id": "a2cd29fe-7a99-45c4-ad98-c2a3718692d7",
   "metadata": {},
   "outputs": [
    {
     "name": "stdout",
     "output_type": "stream",
     "text": [
      "Fitting 5 folds for each of 256 candidates, totalling 1280 fits\n",
      "Best Parameters: {'algorithm': 'auto', 'leaf_size': 10, 'n_neighbors': 3, 'p': 1, 'weights': 'uniform'}\n",
      "Best Score: 0.9982371294851795\n",
      "Test Accuracy: 0.9982942962932146\n"
     ]
    }
   ],
   "source": [
    "import numpy as np\n",
    "from sklearn.neighbors import KNeighborsClassifier\n",
    "from sklearn.model_selection import GridSearchCV\n",
    "\n",
    "# Handle NaN values in y_train\n",
    "nan_indices = np.isnan(y_train)\n",
    "X_train_clean = X_train[~nan_indices]\n",
    "y_train_clean = y_train[~nan_indices]\n",
    "\n",
    "# Define the parameter grid\n",
    "param_grid = {\n",
    "    'n_neighbors': [3, 5, 7, 9],\n",
    "    'weights': ['uniform', 'distance'],\n",
    "    'algorithm': ['auto', 'ball_tree', 'kd_tree', 'brute'],\n",
    "    'leaf_size': [10, 20, 30, 40],\n",
    "    'p': [1, 2]  # 1 for Manhattan distance, 2 for Euclidean distance\n",
    "}\n",
    "\n",
    "# Create a KNeighborsClassifier instance\n",
    "knn = KNeighborsClassifier()\n",
    "\n",
    "# Create GridSearchCV instance\n",
    "grid_search = GridSearchCV(estimator=knn, param_grid=param_grid, cv=5, n_jobs=-1, verbose=2)\n",
    "\n",
    "# Perform grid search on the cleaned data\n",
    "grid_search.fit(X_train_clean, y_train_clean)\n",
    "\n",
    "# Print the best parameters and best score\n",
    "print(\"Best Parameters:\", grid_search.best_params_)\n",
    "print(\"Best Score:\", grid_search.best_score_)\n",
    "\n",
    "# Evaluate on test set\n",
    "best_model = grid_search.best_estimator_\n",
    "test_accuracy = best_model.score(X_test, y_test)\n",
    "print(\"Test Accuracy:\", test_accuracy)\n"
   ]
  },
  {
   "cell_type": "code",
   "execution_count": 3,
   "id": "b3493a01-0c53-4fb7-b2c4-c534ca69fe78",
   "metadata": {},
   "outputs": [
    {
     "name": "stdout",
     "output_type": "stream",
     "text": [
      "Fitting 5 folds for each of 1 candidates, totalling 5 fits\n",
      "Best Parameters: {'algorithm': 'auto', 'leaf_size': 10, 'n_neighbors': 3, 'p': 1, 'weights': 'uniform'}\n",
      "Best Score: 0.9981487259490379\n",
      "Test Accuracy: 0.9984607064109497\n"
     ]
    }
   ],
   "source": [
    "import numpy as np\n",
    "from sklearn.neighbors import KNeighborsClassifier\n",
    "from sklearn.model_selection import GridSearchCV\n",
    "\n",
    "# Handle NaN values in y_train\n",
    "nan_indices = np.isnan(y_train)\n",
    "X_train_clean = X_train[~nan_indices]\n",
    "y_train_clean = y_train[~nan_indices]\n",
    "\n",
    "# Define the parameter grid\n",
    "param_grid = {\n",
    "    'n_neighbors': [3],\n",
    "    'weights': ['uniform'],\n",
    "    'algorithm': ['auto'],\n",
    "    'leaf_size': [10],\n",
    "    'p': [1]  # 1 for Manhattan distance, 2 for Euclidean distance\n",
    "}\n",
    "\n",
    "# Create a KNeighborsClassifier instance\n",
    "knn = KNeighborsClassifier()\n",
    "\n",
    "# Create GridSearchCV instance\n",
    "grid_search = GridSearchCV(estimator=knn, param_grid=param_grid, cv=5, n_jobs=-1, verbose=2)\n",
    "\n",
    "# Perform grid search on the cleaned data\n",
    "grid_search.fit(X_train_clean, y_train_clean)\n",
    "\n",
    "# Print the best parameters and best score\n",
    "print(\"Best Parameters:\", grid_search.best_params_)\n",
    "print(\"Best Score:\", grid_search.best_score_)\n",
    "\n",
    "# Evaluate on test set\n",
    "best_model = grid_search.best_estimator_\n",
    "test_accuracy = best_model.score(X_test, y_test)\n",
    "print(\"Test Accuracy:\", test_accuracy)\n"
   ]
  },
  {
   "cell_type": "code",
   "execution_count": 27,
   "id": "3de19aba-50a6-4577-98f2-516d134cba07",
   "metadata": {},
   "outputs": [],
   "source": [
    "# Create the pipeline\n",
    "pipeline = create_creditcard_pipeline()\n",
    "\n",
    "nan_indices = np.isnan(y_train)\n",
    "X_train_clean = X_train[~nan_indices]\n",
    "y_train_clean = y_train[~nan_indices]\n",
    "\n",
    "# Create algorithm with parameters found during grid search\n",
    "# Leave all parameters as default besides criterion\n",
    "KNC_model = KNeighborsClassifier(\n",
    "     n_neighbors = 2,\n",
    "     weights  = 'uniform',\n",
    "     algorithm = 'auto',\n",
    "     leaf_size = 10,\n",
    "     p = 1  # 1 for Manhattan distance, 2 for Euclidean distance\n",
    ")\n",
    "\n",
    "\n",
    "# Combine the pipeline and the algorithm\n",
    "pipeline_with_algo = Pipeline(steps=[\n",
    "    ('preprocessor', pipeline),\n",
    "    ('algo', KNC_model)\n",
    "])\n",
    "\n",
    "pipeline_with_algo.fit(X_train_clean, y_train_clean)\n",
    "y_test_pred = pipeline_with_algo.predict(X_test)"
   ]
  },
  {
   "cell_type": "code",
   "execution_count": 28,
   "id": "6ec34d2f-afd3-4532-92d3-879e34df3fbd",
   "metadata": {},
   "outputs": [
    {
     "name": "stdout",
     "output_type": "stream",
     "text": [
      "Accuracy: 0.9997087822939634\n",
      "Precision: 1.0\n",
      "Recall: 0.8205128205128205\n",
      "F1 Score: 0.9014084507042254\n"
     ]
    }
   ],
   "source": [
    "accuracy = accuracy_score(y_test, y_test_pred)\n",
    "precision = precision_score(y_test, y_test_pred)\n",
    "recall = recall_score(y_test, y_test_pred)\n",
    "f1 = f1_score(y_test, y_test_pred)\n",
    "\n",
    "\n",
    "print(\"Accuracy:\", accuracy)\n",
    "print(\"Precision:\", precision)\n",
    "print(\"Recall:\", recall)\n",
    "print(\"F1 Score:\", f1)"
   ]
  },
  {
   "cell_type": "code",
   "execution_count": null,
   "id": "ee8d0e3a-9980-4ac5-a8a1-ef9642a980e6",
   "metadata": {},
   "outputs": [],
   "source": []
  }
 ],
 "metadata": {
  "kernelspec": {
   "display_name": "DS420 (Python3.8)",
   "language": "python",
   "name": "ds420"
  },
  "language_info": {
   "codemirror_mode": {
    "name": "ipython",
    "version": 3
   },
   "file_extension": ".py",
   "mimetype": "text/x-python",
   "name": "python",
   "nbconvert_exporter": "python",
   "pygments_lexer": "ipython3",
   "version": "3.8.13"
  }
 },
 "nbformat": 4,
 "nbformat_minor": 5
}

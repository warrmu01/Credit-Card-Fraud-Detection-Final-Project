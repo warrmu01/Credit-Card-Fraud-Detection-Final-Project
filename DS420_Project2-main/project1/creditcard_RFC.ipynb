{
 "cells": [
  {
   "cell_type": "markdown",
   "metadata": {},
   "source": [
    "# Random Forest Algorithm\n",
    "\n",
    "### Author: Mat Rohden\n",
    "### Step 4: Train Algorithms"
   ]
  },
  {
   "cell_type": "code",
   "execution_count": 3,
   "metadata": {},
   "outputs": [],
   "source": [
    "import pandas as pd\n",
    "\n",
    "from sklearn.pipeline import Pipeline\n",
    "from sklearn.linear_model import LogisticRegression\n",
    "from sklearn.svm import SVC\n",
    "from sklearn.neighbors import KNeighborsClassifier\n",
    "from sklearn.tree import DecisionTreeClassifier\n",
    "from sklearn.ensemble import RandomForestClassifier\n",
    "from sklearn.metrics import accuracy_score, precision_score, recall_score, f1_score\n",
    "from sklearn.model_selection import GridSearchCV\n",
    "\n",
    "\n",
    "from creditcard_preparation import create_creditcard_pipeline, prepare_creditcard_data"
   ]
  },
  {
   "cell_type": "markdown",
   "metadata": {},
   "source": [
    "## Grid search for best hyperparameters"
   ]
  },
  {
   "cell_type": "code",
   "execution_count": 9,
   "metadata": {},
   "outputs": [
    {
     "name": "stdout",
     "output_type": "stream",
     "text": [
      "Evaluating RandomForestClassifier...\n",
      "Training ...\n",
      "Fitting 5 folds for each of 8 candidates, totalling 40 fits\n",
      "Grid searching is done!\n",
      "The best score:  0.9998593111156395\n",
      "The best hyperparameters:\n",
      "{'algo__criterion': 'gini', 'algo__max_depth': None, 'algo__max_features': 'sqrt', 'algo__min_samples_leaf': 1, 'algo__min_samples_split': 2, 'algo__n_estimators': 50}\n"
     ]
    }
   ],
   "source": [
    "\n",
    "def evaluate_rf(X_train, y_train, X_dev, y_dev):\n",
    "    print(\"Evaluating RandomForestClassifier...\")\n",
    "    \n",
    "    # Define parameter grid for Grid Search with fewer candidates\n",
    "    param_grid = {\n",
    "        'algo__n_estimators': [50],\n",
    "        'algo__max_depth': [None, 10],\n",
    "        'algo__min_samples_split': [2, 5],\n",
    "        'algo__min_samples_leaf': [1],\n",
    "        'algo__max_features': ['sqrt'],  # Use 'sqrt' instead of 'auto'\n",
    "        'algo__criterion': ['gini', 'entropy']\n",
    "    }\n",
    "\n",
    "    \n",
    "    print(\"Training ...\")\n",
    "    \n",
    "    # Create the pipeline\n",
    "    pipeline = create_creditcard_pipeline()\n",
    "\n",
    "    # Combine the pipeline and the algorithm\n",
    "    pipeline_with_algo = Pipeline(steps=[\n",
    "        ('preprocessor', pipeline),\n",
    "        ('algo', RandomForestClassifier(random_state=42))\n",
    "    ])\n",
    "    \n",
    "    # Perform Grid Search\n",
    "    grid_search = GridSearchCV(pipeline_with_algo, param_grid, cv=5, scoring='accuracy', verbose=1)\n",
    "    grid_search.fit(X_train, y_train)\n",
    "    \n",
    "    # Get the best estimator\n",
    "    best_estimator = grid_search.best_estimator_\n",
    "    \n",
    "    # Evaluate on development set\n",
    "    y_pred = best_estimator.predict(X_dev)\n",
    "    accuracy = accuracy_score(y_dev, y_pred)\n",
    "    precision = precision_score(y_dev, y_pred)\n",
    "    recall = recall_score(y_dev, y_pred)\n",
    "    f1 = f1_score(y_dev, y_pred)\n",
    "    \n",
    "    # print best parameters after tuning \n",
    "    print(\"Grid searching is done!\")\n",
    "    print(\"The best score: \", grid_search.best_score_)\n",
    "    print(\"The best hyperparameters:\")\n",
    "    print(grid_search.best_params_)\n",
    "    \n",
    "    return [accuracy, precision, recall, f1]\n",
    "\n",
    "# Evaluate Random Forest with hyperparameter tuning\n",
    "rf_scores_tuned = evaluate_rf(X_train, y_train, X_dev, y_dev)\n",
    "    \n"
   ]
  },
  {
   "cell_type": "markdown",
   "metadata": {},
   "source": [
    "### Test model on test set using chosen hyperparameters"
   ]
  },
  {
   "cell_type": "code",
   "execution_count": 5,
   "metadata": {},
   "outputs": [],
   "source": [
    "\n",
    "\n",
    "# Prepare credit card data for train\n",
    "\n",
    "X_train, X_dev, X_test, y_train, y_dev, y_test = prepare_creditcard_data(ratios=((1/10), (1/10)))\n",
    "# Create the pipeline\n",
    "pipeline = create_creditcard_pipeline()\n",
    "\n",
    "# Create Random Forest algorithm with parameters found during grid search\n",
    "RF_model = RandomForestClassifier(\n",
    "    n_estimators=50,\n",
    "    criterion='gini',\n",
    "    max_depth=None,\n",
    "    min_samples_split=2,\n",
    "    min_samples_leaf=1,\n",
    "    max_features='sqrt'\n",
    ")\n",
    "\n",
    "# Combine the pipeline and the algorithm\n",
    "pipeline_with_algo = Pipeline(steps=[\n",
    "    ('preprocessor', pipeline),\n",
    "    ('algo', RF_model)\n",
    "])\n",
    "\n",
    "# Fit the pipeline on the training data\n",
    "pipeline_with_algo.fit(X_train, y_train)\n",
    "\n",
    "# Make predictions on the test data\n",
    "y_test_pred = pipeline_with_algo.predict(X_test)"
   ]
  },
  {
   "cell_type": "code",
   "execution_count": 6,
   "metadata": {},
   "outputs": [
    {
     "name": "stdout",
     "output_type": "stream",
     "text": [
      "Accuracy: 0.9998417248474404\n",
      "Precision: 0.9996841772818191\n",
      "Recall: 1.0\n",
      "F1 Score: 0.999842063700974\n"
     ]
    }
   ],
   "source": [
    "accuracy = accuracy_score(y_test, y_test_pred)\n",
    "precision = precision_score(y_test, y_test_pred)\n",
    "recall = recall_score(y_test, y_test_pred)\n",
    "f1 = f1_score(y_test, y_test_pred)\n",
    "\n",
    "\n",
    "print(\"Accuracy:\", accuracy)\n",
    "print(\"Precision:\", precision)\n",
    "print(\"Recall:\", recall)\n",
    "print(\"F1 Score:\", f1)"
   ]
  },
  {
   "cell_type": "code",
   "execution_count": null,
   "metadata": {},
   "outputs": [],
   "source": []
  }
 ],
 "metadata": {
  "kernelspec": {
   "display_name": ".venv",
   "language": "python",
   "name": "python3"
  },
  "language_info": {
   "codemirror_mode": {
    "name": "ipython",
    "version": 3
   },
   "file_extension": ".py",
   "mimetype": "text/x-python",
   "name": "python",
   "nbconvert_exporter": "python",
   "pygments_lexer": "ipython3",
   "version": "3.11.3"
  }
 },
 "nbformat": 4,
 "nbformat_minor": 2
}
